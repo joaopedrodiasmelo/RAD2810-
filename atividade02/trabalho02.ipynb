{
 "cells": [
  {
   "cell_type": "code",
   "id": "0d496d22",
   "metadata": {
    "ExecuteTime": {
     "end_time": "2025-10-17T14:23:23.909960Z",
     "start_time": "2025-10-17T14:23:23.715294Z"
    }
   },
   "source": [
    "\n",
    "import matplotlib.pyplot as plt\n",
    "import numpy as np\n",
    "import pandas as pd\n",
    "from scipy import stats\n",
    "from sklearn.ensemble import RandomForestRegressor\n",
    "from sklearn.linear_model import LinearRegression\n",
    "from sklearn.metrics import mean_squared_error, r2_score, mean_absolute_error\n",
    "from sklearn.model_selection import train_test_split, GridSearchCV\n",
    "from sklearn.neighbors import KNeighborsRegressor\n",
    "from sklearn.pipeline import Pipeline\n",
    "from sklearn.preprocessing import StandardScaler\n",
    "\n",
    "# Evitar warnings de plot inline em alguns ambientes\n",
    "%matplotlib inline\n",
    "\n",
    "file_data = 'fipecafi_cap3.xlsx'\n",
    "file_ans  = 'ListaE2_respostas.xlsx'\n"
   ],
   "outputs": [],
   "execution_count": 46
  },
  {
   "cell_type": "markdown",
   "id": "63587680",
   "metadata": {},
   "source": [
    "## 1) Leitura e **filtragem** da base de dados"
   ]
  },
  {
   "cell_type": "code",
   "id": "65b6867e",
   "metadata": {
    "ExecuteTime": {
     "end_time": "2025-10-17T14:23:24.286744Z",
     "start_time": "2025-10-17T14:23:23.926059Z"
    }
   },
   "source": [
    "\n",
    "# %% [data] Carregar base e filtrar IDs segundo USP 13828592\n",
    "df = pd.read_excel(file_data)\n",
    "\n",
    "# Verificações básicas\n",
    "assert 'ID' in df.columns, \"A base deve conter a coluna 'ID'\"\n",
    "assert 'RENTPL' in df.columns, \"A base deve conter a coluna alvo 'RENTPL'\"\n",
    "\n",
    "df_sel = df[(df['ID'] >= 1032) & (df['ID'] <= 1281)].copy()\n",
    "print(\"Formato base completa:\", df.shape)\n",
    "print(\"Formato base filtrada:\", df_sel.shape)\n",
    "display(df_sel.head())\n"
   ],
   "outputs": [
    {
     "name": "stdout",
     "output_type": "stream",
     "text": [
      "Formato base completa: (297, 11)\n",
      "Formato base filtrada: (250, 11)\n"
     ]
    },
    {
     "data": {
      "text/plain": [
       "      ID  VENDAS  PLAJUST  LLAJUST  ATIVOAJ    ALOPER    MARVEN    RENTAT  \\\n",
       "31  1032   979.8    117.7    127.1   1044.1  8.870858  0.129720  0.121732   \n",
       "32  1033   943.1    116.8     19.1    410.8  3.517123  0.020252  0.046495   \n",
       "33  1034  9000.0   8750.0     50.6   1400.7  0.160080  0.005622  0.036125   \n",
       "34  1035   877.5    172.7      3.5    232.4  1.345686  0.003989  0.015060   \n",
       "35  1036   870.9    211.2     46.9    453.4  2.146780  0.053852  0.103441   \n",
       "\n",
       "       ALFIN  LUPRE    RENTPL  \n",
       "31  0.938416      1  1.079864  \n",
       "32  2.295764      1  0.163527  \n",
       "33  6.425359      1  0.005783  \n",
       "34  3.775818      1  0.020266  \n",
       "35  1.920820      1  0.222064  "
      ],
      "text/html": [
       "<div>\n",
       "<style scoped>\n",
       "    .dataframe tbody tr th:only-of-type {\n",
       "        vertical-align: middle;\n",
       "    }\n",
       "\n",
       "    .dataframe tbody tr th {\n",
       "        vertical-align: top;\n",
       "    }\n",
       "\n",
       "    .dataframe thead th {\n",
       "        text-align: right;\n",
       "    }\n",
       "</style>\n",
       "<table border=\"1\" class=\"dataframe\">\n",
       "  <thead>\n",
       "    <tr style=\"text-align: right;\">\n",
       "      <th></th>\n",
       "      <th>ID</th>\n",
       "      <th>VENDAS</th>\n",
       "      <th>PLAJUST</th>\n",
       "      <th>LLAJUST</th>\n",
       "      <th>ATIVOAJ</th>\n",
       "      <th>ALOPER</th>\n",
       "      <th>MARVEN</th>\n",
       "      <th>RENTAT</th>\n",
       "      <th>ALFIN</th>\n",
       "      <th>LUPRE</th>\n",
       "      <th>RENTPL</th>\n",
       "    </tr>\n",
       "  </thead>\n",
       "  <tbody>\n",
       "    <tr>\n",
       "      <th>31</th>\n",
       "      <td>1032</td>\n",
       "      <td>979.8</td>\n",
       "      <td>117.7</td>\n",
       "      <td>127.1</td>\n",
       "      <td>1044.1</td>\n",
       "      <td>8.870858</td>\n",
       "      <td>0.129720</td>\n",
       "      <td>0.121732</td>\n",
       "      <td>0.938416</td>\n",
       "      <td>1</td>\n",
       "      <td>1.079864</td>\n",
       "    </tr>\n",
       "    <tr>\n",
       "      <th>32</th>\n",
       "      <td>1033</td>\n",
       "      <td>943.1</td>\n",
       "      <td>116.8</td>\n",
       "      <td>19.1</td>\n",
       "      <td>410.8</td>\n",
       "      <td>3.517123</td>\n",
       "      <td>0.020252</td>\n",
       "      <td>0.046495</td>\n",
       "      <td>2.295764</td>\n",
       "      <td>1</td>\n",
       "      <td>0.163527</td>\n",
       "    </tr>\n",
       "    <tr>\n",
       "      <th>33</th>\n",
       "      <td>1034</td>\n",
       "      <td>9000.0</td>\n",
       "      <td>8750.0</td>\n",
       "      <td>50.6</td>\n",
       "      <td>1400.7</td>\n",
       "      <td>0.160080</td>\n",
       "      <td>0.005622</td>\n",
       "      <td>0.036125</td>\n",
       "      <td>6.425359</td>\n",
       "      <td>1</td>\n",
       "      <td>0.005783</td>\n",
       "    </tr>\n",
       "    <tr>\n",
       "      <th>34</th>\n",
       "      <td>1035</td>\n",
       "      <td>877.5</td>\n",
       "      <td>172.7</td>\n",
       "      <td>3.5</td>\n",
       "      <td>232.4</td>\n",
       "      <td>1.345686</td>\n",
       "      <td>0.003989</td>\n",
       "      <td>0.015060</td>\n",
       "      <td>3.775818</td>\n",
       "      <td>1</td>\n",
       "      <td>0.020266</td>\n",
       "    </tr>\n",
       "    <tr>\n",
       "      <th>35</th>\n",
       "      <td>1036</td>\n",
       "      <td>870.9</td>\n",
       "      <td>211.2</td>\n",
       "      <td>46.9</td>\n",
       "      <td>453.4</td>\n",
       "      <td>2.146780</td>\n",
       "      <td>0.053852</td>\n",
       "      <td>0.103441</td>\n",
       "      <td>1.920820</td>\n",
       "      <td>1</td>\n",
       "      <td>0.222064</td>\n",
       "    </tr>\n",
       "  </tbody>\n",
       "</table>\n",
       "</div>"
      ]
     },
     "metadata": {},
     "output_type": "display_data",
     "jetTransient": {
      "display_id": null
     }
    }
   ],
   "execution_count": 47
  },
  {
   "cell_type": "markdown",
   "id": "2f065e2e",
   "metadata": {},
   "source": [
    "## 2) Split **Treino (70%)** e **Teste (30%)**"
   ]
  },
  {
   "cell_type": "code",
   "id": "0012c6c8",
   "metadata": {
    "ExecuteTime": {
     "end_time": "2025-10-17T14:23:24.369418Z",
     "start_time": "2025-10-17T14:23:24.322064Z"
    }
   },
   "source": [
    "\n",
    "# %% [split]\n",
    "target = 'RENTPL'\n",
    "features = [c for c in df_sel.columns if c not in ['ID', target]]\n",
    "\n",
    "X = df_sel[features].copy()\n",
    "y = df_sel[target].astype(float).copy()\n",
    "\n",
    "X_train, X_test, y_train, y_test = train_test_split(\n",
    "    X, y, test_size=0.30, random_state=42\n",
    ")\n",
    "\n",
    "print(\"Dimensões:\")\n",
    "print(\"X_train:\", X_train.shape, \"X_test:\", X_test.shape)\n"
   ],
   "outputs": [
    {
     "name": "stdout",
     "output_type": "stream",
     "text": [
      "Dimensões:\n",
      "X_train: (175, 9) X_test: (75, 9)\n"
     ]
    }
   ],
   "execution_count": 48
  },
  {
   "cell_type": "markdown",
   "id": "c9d670cc",
   "metadata": {},
   "source": [
    "## 3) Funções auxiliares de métrica e relatório"
   ]
  },
  {
   "cell_type": "code",
   "id": "e4f4d376",
   "metadata": {
    "ExecuteTime": {
     "end_time": "2025-10-17T14:23:24.390766Z",
     "start_time": "2025-10-17T14:23:24.375610Z"
    }
   },
   "source": [
    "\n",
    "# %% [helpers]\n",
    "def metrics(y_true, y_pred):\n",
    "    mse = mean_squared_error(y_true, y_pred)\n",
    "    rmse = np.sqrt(mse)  # cálculo manual do RMSE\n",
    "    r2 = r2_score(y_true, y_pred)\n",
    "    mae = mean_absolute_error(y_true, y_pred)\n",
    "    return {\"RMSE\": rmse, \"R2\": r2, \"MAE\": mae}\n",
    "\n",
    "\n",
    "def print_metrics(title, m):\n",
    "    print(f\"{title} -> RMSE: {m['RMSE']:.4f} | R2: {m['R2']:.4f} | MAE: {m['MAE']:.4f}\")\n"
   ],
   "outputs": [],
   "execution_count": 49
  },
  {
   "cell_type": "markdown",
   "id": "c633b798",
   "metadata": {},
   "source": [
    "## 4) (1) Regressão Linear"
   ]
  },
  {
   "cell_type": "code",
   "id": "e27b6c74",
   "metadata": {
    "ExecuteTime": {
     "end_time": "2025-10-17T14:23:24.517415Z",
     "start_time": "2025-10-17T14:23:24.402054Z"
    }
   },
   "source": [
    "\n",
    "# %% [linreg] Ajuste do modelo linear (sklearn) para métricas\n",
    "linreg = LinearRegression()\n",
    "linreg.fit(X_train, y_train)\n",
    "\n",
    "yhat_tr_lin = linreg.predict(X_train)\n",
    "yhat_te_lin = linreg.predict(X_test)\n",
    "\n",
    "met_lin_tr = metrics(y_train, yhat_tr_lin)\n",
    "met_lin_te = metrics(y_test,  yhat_te_lin)\n",
    "print_metrics(\"Linear - Treino\", met_lin_tr)\n",
    "print_metrics(\"Linear - Teste\",  met_lin_te)\n",
    "\n",
    "# Modelo linear com sklearn\n",
    "linreg = LinearRegression()\n",
    "linreg.fit(X_train, y_train)\n",
    "\n",
    "# Coeficientes e intercepto\n",
    "coef = np.append(linreg.intercept_, linreg.coef_)\n",
    "names = np.append('const', X_train.columns)\n",
    "\n",
    "# Previsões e resíduos\n",
    "yhat = linreg.predict(X_train)\n",
    "residuals = y_train - yhat\n",
    "n, k = X_train.shape\n",
    "sse = np.sum(residuals**2)\n",
    "s2 = sse / (n - k - 1)\n",
    "X_mat = np.column_stack([np.ones(n), X_train])\n",
    "var_b = s2 * np.linalg.inv(X_mat.T @ X_mat).diagonal()\n",
    "sd_b = np.sqrt(var_b)\n",
    "\n",
    "# Estatísticas t e p-valores\n",
    "t_stats = coef / sd_b\n",
    "p_values = 2 * (1 - stats.t.cdf(np.abs(t_stats), df=n - k - 1))\n",
    "\n",
    "# Tabela com coeficientes e p-valores\n",
    "coef_table = pd.DataFrame({\n",
    "    \"variável\": names,\n",
    "    \"coef\": coef.round(6),\n",
    "    \"p_value\": p_values.round(6)\n",
    "})\n",
    "\n",
    "display(coef_table)\n"
   ],
   "outputs": [
    {
     "name": "stdout",
     "output_type": "stream",
     "text": [
      "Linear - Treino -> RMSE: 4.5284 | R2: 0.9656 | MAE: 2.1648\n",
      "Linear - Teste -> RMSE: 6.4560 | R2: -205.5410 | MAE: 2.9361\n"
     ]
    },
    {
     "data": {
      "text/plain": [
       "  variável       coef   p_value\n",
       "0    const   0.950223  0.207064\n",
       "1   VENDAS   0.000461  0.236569\n",
       "2  PLAJUST  -0.000189  0.601283\n",
       "3  LLAJUST  -0.047458  0.000000\n",
       "4  ATIVOAJ  -0.000208  0.600185\n",
       "5   ALOPER   0.012802  0.717159\n",
       "6   MARVEN   8.284631  0.000000\n",
       "7   RENTAT  34.822675  0.000000\n",
       "8    ALFIN  -0.105519  0.224893\n",
       "9    LUPRE  -2.403687  0.002208"
      ],
      "text/html": [
       "<div>\n",
       "<style scoped>\n",
       "    .dataframe tbody tr th:only-of-type {\n",
       "        vertical-align: middle;\n",
       "    }\n",
       "\n",
       "    .dataframe tbody tr th {\n",
       "        vertical-align: top;\n",
       "    }\n",
       "\n",
       "    .dataframe thead th {\n",
       "        text-align: right;\n",
       "    }\n",
       "</style>\n",
       "<table border=\"1\" class=\"dataframe\">\n",
       "  <thead>\n",
       "    <tr style=\"text-align: right;\">\n",
       "      <th></th>\n",
       "      <th>variável</th>\n",
       "      <th>coef</th>\n",
       "      <th>p_value</th>\n",
       "    </tr>\n",
       "  </thead>\n",
       "  <tbody>\n",
       "    <tr>\n",
       "      <th>0</th>\n",
       "      <td>const</td>\n",
       "      <td>0.950223</td>\n",
       "      <td>0.207064</td>\n",
       "    </tr>\n",
       "    <tr>\n",
       "      <th>1</th>\n",
       "      <td>VENDAS</td>\n",
       "      <td>0.000461</td>\n",
       "      <td>0.236569</td>\n",
       "    </tr>\n",
       "    <tr>\n",
       "      <th>2</th>\n",
       "      <td>PLAJUST</td>\n",
       "      <td>-0.000189</td>\n",
       "      <td>0.601283</td>\n",
       "    </tr>\n",
       "    <tr>\n",
       "      <th>3</th>\n",
       "      <td>LLAJUST</td>\n",
       "      <td>-0.047458</td>\n",
       "      <td>0.000000</td>\n",
       "    </tr>\n",
       "    <tr>\n",
       "      <th>4</th>\n",
       "      <td>ATIVOAJ</td>\n",
       "      <td>-0.000208</td>\n",
       "      <td>0.600185</td>\n",
       "    </tr>\n",
       "    <tr>\n",
       "      <th>5</th>\n",
       "      <td>ALOPER</td>\n",
       "      <td>0.012802</td>\n",
       "      <td>0.717159</td>\n",
       "    </tr>\n",
       "    <tr>\n",
       "      <th>6</th>\n",
       "      <td>MARVEN</td>\n",
       "      <td>8.284631</td>\n",
       "      <td>0.000000</td>\n",
       "    </tr>\n",
       "    <tr>\n",
       "      <th>7</th>\n",
       "      <td>RENTAT</td>\n",
       "      <td>34.822675</td>\n",
       "      <td>0.000000</td>\n",
       "    </tr>\n",
       "    <tr>\n",
       "      <th>8</th>\n",
       "      <td>ALFIN</td>\n",
       "      <td>-0.105519</td>\n",
       "      <td>0.224893</td>\n",
       "    </tr>\n",
       "    <tr>\n",
       "      <th>9</th>\n",
       "      <td>LUPRE</td>\n",
       "      <td>-2.403687</td>\n",
       "      <td>0.002208</td>\n",
       "    </tr>\n",
       "  </tbody>\n",
       "</table>\n",
       "</div>"
      ]
     },
     "metadata": {},
     "output_type": "display_data",
     "jetTransient": {
      "display_id": null
     }
    }
   ],
   "execution_count": 50
  },
  {
   "cell_type": "markdown",
   "id": "fd3e9928",
   "metadata": {},
   "source": [
    "## 5) (2) Regressão **KNN** com normalização e *grid search*"
   ]
  },
  {
   "cell_type": "code",
   "id": "1c1ffa39",
   "metadata": {
    "ExecuteTime": {
     "end_time": "2025-10-17T14:23:29.594991Z",
     "start_time": "2025-10-17T14:23:24.528660Z"
    }
   },
   "source": [
    "\n",
    "# %% [knn] Pipeline com StandardScaler + KNN\n",
    "pipe_knn = Pipeline(steps=[\n",
    "    (\"scaler\", StandardScaler(with_mean=True, with_std=True)),\n",
    "    (\"knn\", KNeighborsRegressor())\n",
    "])\n",
    "\n",
    "param_grid = {\n",
    "    \"knn__n_neighbors\": list(range(2, 26, 2)),  # pares de 2 a 24\n",
    "    \"knn__weights\": [\"uniform\", \"distance\"]\n",
    "}\n",
    "gknn = GridSearchCV(pipe_knn, param_grid, cv=5, scoring=\"neg_root_mean_squared_error\", n_jobs=-1)\n",
    "gknn.fit(X_train, y_train)\n",
    "\n",
    "best_knn = gknn.best_estimator_\n",
    "print(\"Melhor KNN:\", gknn.best_params_)\n",
    "\n",
    "yhat_tr_knn = best_knn.predict(X_train)\n",
    "yhat_te_knn = best_knn.predict(X_test)\n",
    "\n",
    "met_knn_tr = metrics(y_train, yhat_tr_knn)\n",
    "met_knn_te = metrics(y_test,  yhat_te_knn)\n",
    "print_metrics(\"KNN - Treino\", met_knn_tr)\n",
    "print_metrics(\"KNN - Teste\",  met_knn_te)\n"
   ],
   "outputs": [
    {
     "name": "stdout",
     "output_type": "stream",
     "text": [
      "Melhor KNN: {'knn__n_neighbors': 2, 'knn__weights': 'distance'}\n",
      "KNN - Treino -> RMSE: 0.0000 | R2: 1.0000 | MAE: 0.0000\n",
      "KNN - Teste -> RMSE: 0.2995 | R2: 0.5556 | MAE: 0.1643\n"
     ]
    }
   ],
   "execution_count": 51
  },
  {
   "cell_type": "markdown",
   "id": "d57a81d9",
   "metadata": {},
   "source": [
    "## 6) (3) Regressão **Random Forest** com *grid search*"
   ]
  },
  {
   "cell_type": "code",
   "id": "a722b005",
   "metadata": {
    "ExecuteTime": {
     "end_time": "2025-10-17T14:24:10.622838Z",
     "start_time": "2025-10-17T14:23:29.609717Z"
    }
   },
   "source": [
    "\n",
    "# %% [rf] RandomForestRegressor com grade simples\n",
    "rf = RandomForestRegressor(random_state=42)\n",
    "grid_rf = {\n",
    "    \"n_estimators\": [200, 500, 800],\n",
    "    \"max_depth\": [None, 5, 10, 15],\n",
    "    \"min_samples_split\": [2, 5],\n",
    "    \"min_samples_leaf\": [1, 2]\n",
    "}\n",
    "grf = GridSearchCV(rf, grid_rf, cv=5, scoring=\"neg_root_mean_squared_error\", n_jobs=-1)\n",
    "grf.fit(X_train, y_train)\n",
    "\n",
    "best_rf = grf.best_estimator_\n",
    "print(\"Melhor RF:\", grf.best_params_)\n",
    "\n",
    "yhat_tr_rf = best_rf.predict(X_train)\n",
    "yhat_te_rf = best_rf.predict(X_test)\n",
    "\n",
    "met_rf_tr = metrics(y_train, yhat_tr_rf)\n",
    "met_rf_te = metrics(y_test,  yhat_te_rf)\n",
    "print_metrics(\"RF - Treino\", met_rf_tr)\n",
    "print_metrics(\"RF - Teste\",  met_rf_te)\n"
   ],
   "outputs": [
    {
     "name": "stdout",
     "output_type": "stream",
     "text": [
      "Melhor RF: {'max_depth': 15, 'min_samples_leaf': 1, 'min_samples_split': 5, 'n_estimators': 800}\n",
      "RF - Treino -> RMSE: 8.6201 | R2: 0.8754 | MAE: 1.0983\n",
      "RF - Teste -> RMSE: 4.9393 | R2: -119.8992 | MAE: 0.9918\n"
     ]
    }
   ],
   "execution_count": 52
  },
  {
   "cell_type": "markdown",
   "id": "e80fa783",
   "metadata": {},
   "source": [
    "## 7) (4) Comparação (Treino x Teste) e **Variância (|Treino − Teste|)**"
   ]
  },
  {
   "cell_type": "code",
   "id": "4c0982a1",
   "metadata": {
    "ExecuteTime": {
     "end_time": "2025-10-17T14:24:10.676034Z",
     "start_time": "2025-10-17T14:24:10.632786Z"
    }
   },
   "source": [
    "\n",
    "# %% [compare]\n",
    "\n",
    "comp = pd.DataFrame([\n",
    "    ['Linear', 'Treino', met_lin_tr['RMSE'], met_lin_tr['R2'], met_lin_tr['MAE']],\n",
    "    ['Linear', 'Teste',  met_lin_te['RMSE'], met_lin_te['R2'], met_lin_te['MAE']],\n",
    "    ['KNN',    'Treino', met_knn_tr['RMSE'], met_knn_tr['R2'], met_knn_tr['MAE']],\n",
    "    ['KNN',    'Teste',  met_knn_te['RMSE'], met_knn_te['R2'], met_knn_te['MAE']],\n",
    "    ['RF',     'Treino', met_rf_tr['RMSE'],  met_rf_tr['R2'],  met_rf_tr['MAE']],\n",
    "    ['RF',     'Teste',  met_rf_te['RMSE'],  met_rf_te['R2'],  met_rf_te['MAE']],\n",
    "], columns=['Modelo','Base','RMSE','R2','MAE'])\n",
    "\n",
    "# Variância absoluta por métrica\n",
    "var_rows = []\n",
    "for model in comp['Modelo'].unique():\n",
    "    sub = comp[comp['Modelo']==model].set_index('Base')\n",
    "    var_rows.append([model, \n",
    "                     abs(sub.loc['Treino','RMSE'] - sub.loc['Teste','RMSE']),\n",
    "                     abs(sub.loc['Treino','R2']   - sub.loc['Teste','R2']),\n",
    "                     abs(sub.loc['Treino','MAE']  - sub.loc['Teste','MAE'])])\n",
    "variancia = pd.DataFrame(var_rows, columns=['Modelo','|ΔRMSE|','|ΔR2|','|ΔMAE|'])\n",
    "\n",
    "display(comp)\n",
    "display(variancia)\n"
   ],
   "outputs": [
    {
     "data": {
      "text/plain": [
       "   Modelo    Base      RMSE          R2       MAE\n",
       "0  Linear  Treino  4.528437    0.965625  2.164751\n",
       "1  Linear   Teste  6.455963 -205.541044  2.936136\n",
       "2     KNN  Treino  0.000000    1.000000  0.000000\n",
       "3     KNN   Teste  0.299458    0.555619  0.164320\n",
       "4      RF  Treino  8.620119    0.875441  1.098341\n",
       "5      RF   Teste  4.939346 -119.899153  0.991783"
      ],
      "text/html": [
       "<div>\n",
       "<style scoped>\n",
       "    .dataframe tbody tr th:only-of-type {\n",
       "        vertical-align: middle;\n",
       "    }\n",
       "\n",
       "    .dataframe tbody tr th {\n",
       "        vertical-align: top;\n",
       "    }\n",
       "\n",
       "    .dataframe thead th {\n",
       "        text-align: right;\n",
       "    }\n",
       "</style>\n",
       "<table border=\"1\" class=\"dataframe\">\n",
       "  <thead>\n",
       "    <tr style=\"text-align: right;\">\n",
       "      <th></th>\n",
       "      <th>Modelo</th>\n",
       "      <th>Base</th>\n",
       "      <th>RMSE</th>\n",
       "      <th>R2</th>\n",
       "      <th>MAE</th>\n",
       "    </tr>\n",
       "  </thead>\n",
       "  <tbody>\n",
       "    <tr>\n",
       "      <th>0</th>\n",
       "      <td>Linear</td>\n",
       "      <td>Treino</td>\n",
       "      <td>4.528437</td>\n",
       "      <td>0.965625</td>\n",
       "      <td>2.164751</td>\n",
       "    </tr>\n",
       "    <tr>\n",
       "      <th>1</th>\n",
       "      <td>Linear</td>\n",
       "      <td>Teste</td>\n",
       "      <td>6.455963</td>\n",
       "      <td>-205.541044</td>\n",
       "      <td>2.936136</td>\n",
       "    </tr>\n",
       "    <tr>\n",
       "      <th>2</th>\n",
       "      <td>KNN</td>\n",
       "      <td>Treino</td>\n",
       "      <td>0.000000</td>\n",
       "      <td>1.000000</td>\n",
       "      <td>0.000000</td>\n",
       "    </tr>\n",
       "    <tr>\n",
       "      <th>3</th>\n",
       "      <td>KNN</td>\n",
       "      <td>Teste</td>\n",
       "      <td>0.299458</td>\n",
       "      <td>0.555619</td>\n",
       "      <td>0.164320</td>\n",
       "    </tr>\n",
       "    <tr>\n",
       "      <th>4</th>\n",
       "      <td>RF</td>\n",
       "      <td>Treino</td>\n",
       "      <td>8.620119</td>\n",
       "      <td>0.875441</td>\n",
       "      <td>1.098341</td>\n",
       "    </tr>\n",
       "    <tr>\n",
       "      <th>5</th>\n",
       "      <td>RF</td>\n",
       "      <td>Teste</td>\n",
       "      <td>4.939346</td>\n",
       "      <td>-119.899153</td>\n",
       "      <td>0.991783</td>\n",
       "    </tr>\n",
       "  </tbody>\n",
       "</table>\n",
       "</div>"
      ]
     },
     "metadata": {},
     "output_type": "display_data",
     "jetTransient": {
      "display_id": null
     }
    },
    {
     "data": {
      "text/plain": [
       "   Modelo   |ΔRMSE|       |ΔR2|    |ΔMAE|\n",
       "0  Linear  1.927526  206.506668  0.771385\n",
       "1     KNN  0.299458    0.444381  0.164320\n",
       "2      RF  3.680773  120.774594  0.106558"
      ],
      "text/html": [
       "<div>\n",
       "<style scoped>\n",
       "    .dataframe tbody tr th:only-of-type {\n",
       "        vertical-align: middle;\n",
       "    }\n",
       "\n",
       "    .dataframe tbody tr th {\n",
       "        vertical-align: top;\n",
       "    }\n",
       "\n",
       "    .dataframe thead th {\n",
       "        text-align: right;\n",
       "    }\n",
       "</style>\n",
       "<table border=\"1\" class=\"dataframe\">\n",
       "  <thead>\n",
       "    <tr style=\"text-align: right;\">\n",
       "      <th></th>\n",
       "      <th>Modelo</th>\n",
       "      <th>|ΔRMSE|</th>\n",
       "      <th>|ΔR2|</th>\n",
       "      <th>|ΔMAE|</th>\n",
       "    </tr>\n",
       "  </thead>\n",
       "  <tbody>\n",
       "    <tr>\n",
       "      <th>0</th>\n",
       "      <td>Linear</td>\n",
       "      <td>1.927526</td>\n",
       "      <td>206.506668</td>\n",
       "      <td>0.771385</td>\n",
       "    </tr>\n",
       "    <tr>\n",
       "      <th>1</th>\n",
       "      <td>KNN</td>\n",
       "      <td>0.299458</td>\n",
       "      <td>0.444381</td>\n",
       "      <td>0.164320</td>\n",
       "    </tr>\n",
       "    <tr>\n",
       "      <th>2</th>\n",
       "      <td>RF</td>\n",
       "      <td>3.680773</td>\n",
       "      <td>120.774594</td>\n",
       "      <td>0.106558</td>\n",
       "    </tr>\n",
       "  </tbody>\n",
       "</table>\n",
       "</div>"
      ]
     },
     "metadata": {},
     "output_type": "display_data",
     "jetTransient": {
      "display_id": null
     }
    }
   ],
   "execution_count": 53
  },
  {
   "cell_type": "markdown",
   "id": "e5976bb9",
   "metadata": {},
   "source": [
    "## 8) (5) Gráficos de **resíduos vs RENTPL**"
   ]
  },
  {
   "cell_type": "code",
   "id": "727c67d1",
   "metadata": {
    "ExecuteTime": {
     "end_time": "2025-10-17T14:24:11.100982Z",
     "start_time": "2025-10-17T14:24:10.688683Z"
    }
   },
   "source": [
    "\n",
    "# %% [residuals]\n",
    "def plot_residuals(y_true, y_pred, title):\n",
    "    residuals = y_true - y_pred\n",
    "    plt.figure()\n",
    "    plt.scatter(y_true, residuals, s=18)\n",
    "    plt.axhline(0, linestyle='--')\n",
    "    plt.xlabel(\"RENTPL (verdadeiro)\")\n",
    "    plt.ylabel(\"Resíduos (y - ŷ)\")\n",
    "    plt.title(title)\n",
    "    plt.show()\n",
    "\n",
    "# Usar base de teste para os gráficos (poderia repetir para treino)\n",
    "plot_residuals(y_test, yhat_te_lin, \"Resíduos vs RENTPL — Linear (Teste)\")\n",
    "plot_residuals(y_test, yhat_te_knn, \"Resíduos vs RENTPL — KNN (Teste)\")\n",
    "plot_residuals(y_test, yhat_te_rf,  \"Resíduos vs RENTPL — Random Forest (Teste)\")\n"
   ],
   "outputs": [
    {
     "data": {
      "text/plain": [
       "<Figure size 640x480 with 1 Axes>"
      ],
      "image/png": "[encoded data removed]"
     },
     "metadata": {},
     "output_type": "display_data",
     "jetTransient": {
      "display_id": null
     }
    },
    {
     "data": {
      "text/plain": [
       "<Figure size 640x480 with 1 Axes>"
      ],
      "image/png": "[encoded data removed]"
     },
     "metadata": {},
     "output_type": "display_data",
     "jetTransient": {
      "display_id": null
     }
    },
    {
     "data": {
      "text/plain": [
       "<Figure size 640x480 with 1 Axes>"
      ],
      "image/png": "[encoded data removed]"
     },
     "metadata": {},
     "output_type": "display_data",
     "jetTransient": {
      "display_id": null
     }
    }
   ],
   "execution_count": 54
  },
  {
   "cell_type": "markdown",
   "id": "1b9ebbdb",
   "metadata": {},
   "source": [
    "## 9) (6) Melhor modelo — justificativa"
   ]
  },
  {
   "cell_type": "code",
   "id": "7c393046",
   "metadata": {
    "ExecuteTime": {
     "end_time": "2025-10-17T14:24:11.139903Z",
     "start_time": "2025-10-17T14:24:11.111510Z"
    }
   },
   "source": [
    "\n",
    "# %% [best]\n",
    "# Critério: menor RMSE na base de TESTE (principal), desempate por MAE e R2 maior\n",
    "comp_te = comp[comp['Base']=='Teste'].copy()\n",
    "comp_te = comp_te.sort_values(['RMSE','MAE', 'R2'], ascending=[True, True, False])\n",
    "melhor_modelo = comp_te.iloc[0]['Modelo']\n",
    "print(\"Ranking (Teste):\")\n",
    "display(comp_te.reset_index(drop=True))\n",
    "print(f\"Melhor modelo (critério: RMSE menor em Teste): {melhor_modelo}\")\n"
   ],
   "outputs": [
    {
     "name": "stdout",
     "output_type": "stream",
     "text": [
      "Ranking (Teste):\n"
     ]
    },
    {
     "data": {
      "text/plain": [
       "   Modelo   Base      RMSE          R2       MAE\n",
       "0     KNN  Teste  0.299458    0.555619  0.164320\n",
       "1      RF  Teste  4.939346 -119.899153  0.991783\n",
       "2  Linear  Teste  6.455963 -205.541044  2.936136"
      ],
      "text/html": [
       "<div>\n",
       "<style scoped>\n",
       "    .dataframe tbody tr th:only-of-type {\n",
       "        vertical-align: middle;\n",
       "    }\n",
       "\n",
       "    .dataframe tbody tr th {\n",
       "        vertical-align: top;\n",
       "    }\n",
       "\n",
       "    .dataframe thead th {\n",
       "        text-align: right;\n",
       "    }\n",
       "</style>\n",
       "<table border=\"1\" class=\"dataframe\">\n",
       "  <thead>\n",
       "    <tr style=\"text-align: right;\">\n",
       "      <th></th>\n",
       "      <th>Modelo</th>\n",
       "      <th>Base</th>\n",
       "      <th>RMSE</th>\n",
       "      <th>R2</th>\n",
       "      <th>MAE</th>\n",
       "    </tr>\n",
       "  </thead>\n",
       "  <tbody>\n",
       "    <tr>\n",
       "      <th>0</th>\n",
       "      <td>KNN</td>\n",
       "      <td>Teste</td>\n",
       "      <td>0.299458</td>\n",
       "      <td>0.555619</td>\n",
       "      <td>0.164320</td>\n",
       "    </tr>\n",
       "    <tr>\n",
       "      <th>1</th>\n",
       "      <td>RF</td>\n",
       "      <td>Teste</td>\n",
       "      <td>4.939346</td>\n",
       "      <td>-119.899153</td>\n",
       "      <td>0.991783</td>\n",
       "    </tr>\n",
       "    <tr>\n",
       "      <th>2</th>\n",
       "      <td>Linear</td>\n",
       "      <td>Teste</td>\n",
       "      <td>6.455963</td>\n",
       "      <td>-205.541044</td>\n",
       "      <td>2.936136</td>\n",
       "    </tr>\n",
       "  </tbody>\n",
       "</table>\n",
       "</div>"
      ]
     },
     "metadata": {},
     "output_type": "display_data",
     "jetTransient": {
      "display_id": null
     }
    },
    {
     "name": "stdout",
     "output_type": "stream",
     "text": [
      "Melhor modelo (critério: RMSE menor em Teste): KNN\n"
     ]
    }
   ],
   "execution_count": 55
  }
 ],
 "metadata": {
  "kernelspec": {
   "name": "python3",
   "language": "python",
   "display_name": "Python 3 (ipykernel)"
  }
 },
 "nbformat": 4,
 "nbformat_minor": 5
}
